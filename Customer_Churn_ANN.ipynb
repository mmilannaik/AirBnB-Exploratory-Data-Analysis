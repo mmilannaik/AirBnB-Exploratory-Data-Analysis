{
  "metadata": {
    "kernelspec": {
      "language": "python",
      "display_name": "Python 3",
      "name": "python3"
    },
    "language_info": {
      "pygments_lexer": "ipython3",
      "nbconvert_exporter": "python",
      "version": "3.6.4",
      "file_extension": ".py",
      "codemirror_mode": {
        "name": "ipython",
        "version": 3
      },
      "name": "python",
      "mimetype": "text/x-python"
    },
    "colab": {
      "name": "notebook8ad570467f",
      "provenance": [],
      "include_colab_link": true
    }
  },
  "nbformat_minor": 0,
  "nbformat": 4,
  "cells": [
    {
      "cell_type": "markdown",
      "metadata": {
        "id": "view-in-github",
        "colab_type": "text"
      },
      "source": [
        "<a href=\"https://colab.research.google.com/github/mmilannaik/Campus-DL/blob/main/Customer_Churn_ANN.ipynb\" target=\"_parent\"><img src=\"https://colab.research.google.com/assets/colab-badge.svg\" alt=\"Open In Colab\"/></a>"
      ]
    },
    {
      "source": [
        "\n",
        "# IMPORTANT: RUN THIS CELL IN ORDER TO IMPORT YOUR KAGGLE DATA SOURCES\n",
        "# TO THE CORRECT LOCATION (/kaggle/input) IN YOUR NOTEBOOK,\n",
        "# THEN FEEL FREE TO DELETE THIS CELL.\n",
        "# NOTE: THIS NOTEBOOK ENVIRONMENT DIFFERS FROM KAGGLE'S PYTHON\n",
        "# ENVIRONMENT SO THERE MAY BE MISSING LIBRARIES USED BY YOUR\n",
        "# NOTEBOOK.\n",
        "\n",
        "import os\n",
        "import sys\n",
        "from tempfile import NamedTemporaryFile\n",
        "from urllib.request import urlopen\n",
        "from urllib.parse import unquote, urlparse\n",
        "from urllib.error import HTTPError\n",
        "from zipfile import ZipFile\n",
        "import tarfile\n",
        "import shutil\n",
        "\n",
        "CHUNK_SIZE = 40960\n",
        "DATA_SOURCE_MAPPING = 'credit-card-customer-churn-prediction:https%3A%2F%2Fstorage.googleapis.com%2Fkaggle-data-sets%2F869651%2F1481789%2Fbundle%2Farchive.zip%3FX-Goog-Algorithm%3DGOOG4-RSA-SHA256%26X-Goog-Credential%3Dgcp-kaggle-com%2540kaggle-161607.iam.gserviceaccount.com%252F20240903%252Fauto%252Fstorage%252Fgoog4_request%26X-Goog-Date%3D20240903T094417Z%26X-Goog-Expires%3D259200%26X-Goog-SignedHeaders%3Dhost%26X-Goog-Signature%3D64d779162f23d74a117ca15528cc04283ac9d98092f287ea2ea9845ec586832716965a0ff9180e23d2e1e543e5947e7ea175df47f2d4e9deaec252ac96318ed0170ccd3d35bf005b2a1bc8ba3fe1aed250d80296611e9cf14881a04116d06df8a57080eca5f7be3a3028d31815d86492b8d851d22ef845b17e31c856140dc69dfc318e6b46df2224ca703d4c14865b5adc0554510bf00bfff52ecd8edc405a9f851bcd2707ced63b2136b1301f19571f9b0843ea1eee310bd7f85feb386c4742af38953b2bdaaa5c642c98e1696494a0da9fd60b930eb1b9971d9e52db3e5f9cbf7913f4986d03b3f15f032a5a2ae6daefa8f8233f85f30f4f631a9d5cbc4c53'\n",
        "\n",
        "KAGGLE_INPUT_PATH='/kaggle/input'\n",
        "KAGGLE_WORKING_PATH='/kaggle/working'\n",
        "KAGGLE_SYMLINK='kaggle'\n",
        "\n",
        "!umount /kaggle/input/ 2> /dev/null\n",
        "shutil.rmtree('/kaggle/input', ignore_errors=True)\n",
        "os.makedirs(KAGGLE_INPUT_PATH, 0o777, exist_ok=True)\n",
        "os.makedirs(KAGGLE_WORKING_PATH, 0o777, exist_ok=True)\n",
        "\n",
        "try:\n",
        "  os.symlink(KAGGLE_INPUT_PATH, os.path.join(\"..\", 'input'), target_is_directory=True)\n",
        "except FileExistsError:\n",
        "  pass\n",
        "try:\n",
        "  os.symlink(KAGGLE_WORKING_PATH, os.path.join(\"..\", 'working'), target_is_directory=True)\n",
        "except FileExistsError:\n",
        "  pass\n",
        "\n",
        "for data_source_mapping in DATA_SOURCE_MAPPING.split(','):\n",
        "    directory, download_url_encoded = data_source_mapping.split(':')\n",
        "    download_url = unquote(download_url_encoded)\n",
        "    filename = urlparse(download_url).path\n",
        "    destination_path = os.path.join(KAGGLE_INPUT_PATH, directory)\n",
        "    try:\n",
        "        with urlopen(download_url) as fileres, NamedTemporaryFile() as tfile:\n",
        "            total_length = fileres.headers['content-length']\n",
        "            print(f'Downloading {directory}, {total_length} bytes compressed')\n",
        "            dl = 0\n",
        "            data = fileres.read(CHUNK_SIZE)\n",
        "            while len(data) > 0:\n",
        "                dl += len(data)\n",
        "                tfile.write(data)\n",
        "                done = int(50 * dl / int(total_length))\n",
        "                sys.stdout.write(f\"\\r[{'=' * done}{' ' * (50-done)}] {dl} bytes downloaded\")\n",
        "                sys.stdout.flush()\n",
        "                data = fileres.read(CHUNK_SIZE)\n",
        "            if filename.endswith('.zip'):\n",
        "              with ZipFile(tfile) as zfile:\n",
        "                zfile.extractall(destination_path)\n",
        "            else:\n",
        "              with tarfile.open(tfile.name) as tarfile:\n",
        "                tarfile.extractall(destination_path)\n",
        "            print(f'\\nDownloaded and uncompressed: {directory}')\n",
        "    except HTTPError as e:\n",
        "        print(f'Failed to load (likely expired) {download_url} to path {destination_path}')\n",
        "        continue\n",
        "    except OSError as e:\n",
        "        print(f'Failed to load {download_url} to path {destination_path}')\n",
        "        continue\n",
        "\n",
        "print('Data source import complete.')\n"
      ],
      "metadata": {
        "id": "NsHQFq6MRWDT"
      },
      "cell_type": "code",
      "outputs": [],
      "execution_count": null
    },
    {
      "cell_type": "code",
      "source": [
        "# This Python 3 environment comes with many helpful analytics libraries installed\n",
        "# It is defined by the kaggle/python Docker image: https://github.com/kaggle/docker-python\n",
        "# For example, here's several helpful packages to load\n",
        "\n",
        "import numpy as np # linear algebra\n",
        "import pandas as pd # data processing, CSV file I/O (e.g. pd.read_csv)\n",
        "\n",
        "# Input data files are available in the read-only \"../input/\" directory\n",
        "# For example, running this (by clicking run or pressing Shift+Enter) will list all files under the input directory\n",
        "\n",
        "import os\n",
        "for dirname, _, filenames in os.walk('/kaggle/input'):\n",
        "    for filename in filenames:\n",
        "        print(os.path.join(dirname, filename))\n",
        "\n",
        "# You can write up to 20GB to the current directory (/kaggle/working/) that gets preserved as output when you create a version using \"Save & Run All\"\n",
        "# You can also write temporary files to /kaggle/temp/, but they won't be saved outside of the current session"
      ],
      "metadata": {
        "_uuid": "8f2839f25d086af736a60e9eeb907d3b93b6e0e5",
        "_cell_guid": "b1076dfc-b9ad-4769-8c92-a6c4dae69d19",
        "execution": {
          "iopub.status.busy": "2022-03-06T03:32:33.905585Z",
          "iopub.execute_input": "2022-03-06T03:32:33.905991Z",
          "iopub.status.idle": "2022-03-06T03:32:33.939484Z",
          "shell.execute_reply.started": "2022-03-06T03:32:33.905892Z",
          "shell.execute_reply": "2022-03-06T03:32:33.93888Z"
        },
        "trusted": true,
        "id": "nWf-V87rRWDf"
      },
      "execution_count": null,
      "outputs": []
    },
    {
      "cell_type": "code",
      "source": [
        "df = pd.read_csv('/kaggle/input/credit-card-customer-churn-prediction/Churn_Modelling.csv')"
      ],
      "metadata": {
        "execution": {
          "iopub.status.busy": "2022-03-06T03:32:56.586618Z",
          "iopub.execute_input": "2022-03-06T03:32:56.586925Z",
          "iopub.status.idle": "2022-03-06T03:32:56.633466Z",
          "shell.execute_reply.started": "2022-03-06T03:32:56.586892Z",
          "shell.execute_reply": "2022-03-06T03:32:56.632634Z"
        },
        "trusted": true,
        "id": "BtNs9_EFRWDi"
      },
      "execution_count": null,
      "outputs": []
    },
    {
      "cell_type": "code",
      "source": [
        "df.head()"
      ],
      "metadata": {
        "execution": {
          "iopub.status.busy": "2022-03-06T03:33:04.565302Z",
          "iopub.execute_input": "2022-03-06T03:33:04.565582Z",
          "iopub.status.idle": "2022-03-06T03:33:04.590711Z",
          "shell.execute_reply.started": "2022-03-06T03:33:04.565552Z",
          "shell.execute_reply": "2022-03-06T03:33:04.590106Z"
        },
        "trusted": true,
        "id": "MdrdsykvRWDl"
      },
      "execution_count": null,
      "outputs": []
    },
    {
      "cell_type": "code",
      "source": [
        "df.drop(columns = ['RowNumber','CustomerId','Surname'],inplace=True)"
      ],
      "metadata": {
        "execution": {
          "iopub.status.busy": "2022-03-06T03:33:16.956107Z",
          "iopub.execute_input": "2022-03-06T03:33:16.956409Z",
          "iopub.status.idle": "2022-03-06T03:33:16.969099Z",
          "shell.execute_reply.started": "2022-03-06T03:33:16.956376Z",
          "shell.execute_reply": "2022-03-06T03:33:16.968191Z"
        },
        "trusted": true,
        "id": "6Bh0HW5RRWDn"
      },
      "execution_count": null,
      "outputs": []
    },
    {
      "cell_type": "code",
      "source": [
        "df.head()"
      ],
      "metadata": {
        "execution": {
          "iopub.status.busy": "2022-03-06T03:33:25.596737Z",
          "iopub.execute_input": "2022-03-06T03:33:25.597651Z",
          "iopub.status.idle": "2022-03-06T03:33:25.613054Z",
          "shell.execute_reply.started": "2022-03-06T03:33:25.597603Z",
          "shell.execute_reply": "2022-03-06T03:33:25.612113Z"
        },
        "trusted": true,
        "id": "NP-ARxDGRWDo"
      },
      "execution_count": null,
      "outputs": []
    },
    {
      "cell_type": "code",
      "source": [
        "df['Geography'].value_counts()"
      ],
      "metadata": {
        "execution": {
          "iopub.status.busy": "2022-03-06T03:33:36.320838Z",
          "iopub.execute_input": "2022-03-06T03:33:36.321542Z",
          "iopub.status.idle": "2022-03-06T03:33:36.333826Z",
          "shell.execute_reply.started": "2022-03-06T03:33:36.321507Z",
          "shell.execute_reply": "2022-03-06T03:33:36.333097Z"
        },
        "trusted": true,
        "id": "aVj4IKJbRWDs"
      },
      "execution_count": null,
      "outputs": []
    },
    {
      "cell_type": "code",
      "source": [
        "df['Gender'].value_counts()"
      ],
      "metadata": {
        "execution": {
          "iopub.status.busy": "2022-03-06T03:33:45.385967Z",
          "iopub.execute_input": "2022-03-06T03:33:45.386793Z",
          "iopub.status.idle": "2022-03-06T03:33:45.39533Z",
          "shell.execute_reply.started": "2022-03-06T03:33:45.386756Z",
          "shell.execute_reply": "2022-03-06T03:33:45.394438Z"
        },
        "trusted": true,
        "id": "NoPy8XkeRWDt"
      },
      "execution_count": null,
      "outputs": []
    },
    {
      "cell_type": "code",
      "source": [
        "df = pd.get_dummies(df,columns=['Geography','Gender'],drop_first=True)"
      ],
      "metadata": {
        "execution": {
          "iopub.status.busy": "2022-03-06T03:33:54.381775Z",
          "iopub.execute_input": "2022-03-06T03:33:54.382275Z",
          "iopub.status.idle": "2022-03-06T03:33:54.399399Z",
          "shell.execute_reply.started": "2022-03-06T03:33:54.382234Z",
          "shell.execute_reply": "2022-03-06T03:33:54.398368Z"
        },
        "trusted": true,
        "id": "Sc4LKF7iRWDu"
      },
      "execution_count": null,
      "outputs": []
    },
    {
      "cell_type": "code",
      "source": [
        "df.head()"
      ],
      "metadata": {
        "execution": {
          "iopub.status.busy": "2022-03-06T03:34:05.465041Z",
          "iopub.execute_input": "2022-03-06T03:34:05.465611Z",
          "iopub.status.idle": "2022-03-06T03:34:05.481994Z",
          "shell.execute_reply.started": "2022-03-06T03:34:05.465567Z",
          "shell.execute_reply": "2022-03-06T03:34:05.481205Z"
        },
        "trusted": true,
        "id": "qLtHHlihRWDw"
      },
      "execution_count": null,
      "outputs": []
    },
    {
      "cell_type": "code",
      "source": [
        "X = df.drop(columns=['Exited'])\n",
        "y = df['Exited'].values\n",
        "\n",
        "from sklearn.model_selection import train_test_split\n",
        "X_train,X_test,y_train,y_test = train_test_split(X,y,test_size=0.2,random_state=0)"
      ],
      "metadata": {
        "execution": {
          "iopub.status.busy": "2022-03-06T03:34:15.211214Z",
          "iopub.execute_input": "2022-03-06T03:34:15.21198Z",
          "iopub.status.idle": "2022-03-06T03:34:16.378692Z",
          "shell.execute_reply.started": "2022-03-06T03:34:15.211936Z",
          "shell.execute_reply": "2022-03-06T03:34:16.377875Z"
        },
        "trusted": true,
        "id": "dK4doHb8RWDx"
      },
      "execution_count": null,
      "outputs": []
    },
    {
      "cell_type": "code",
      "source": [
        "from sklearn.preprocessing import StandardScaler\n",
        "scaler = StandardScaler()\n",
        "\n",
        "X_train_trf = scaler.fit_transform(X_train)\n",
        "X_test_trf = scaler.transform(X_test)"
      ],
      "metadata": {
        "execution": {
          "iopub.status.busy": "2022-03-06T03:34:23.641345Z",
          "iopub.execute_input": "2022-03-06T03:34:23.642185Z",
          "iopub.status.idle": "2022-03-06T03:34:23.656143Z",
          "shell.execute_reply.started": "2022-03-06T03:34:23.642134Z",
          "shell.execute_reply": "2022-03-06T03:34:23.655395Z"
        },
        "trusted": true,
        "id": "xuV_NWvRRWDx"
      },
      "execution_count": null,
      "outputs": []
    },
    {
      "cell_type": "code",
      "source": [
        "import tensorflow\n",
        "from tensorflow import keras\n",
        "from tensorflow.keras import Sequential\n",
        "from tensorflow.keras.layers import Dense"
      ],
      "metadata": {
        "execution": {
          "iopub.status.busy": "2022-03-06T03:34:31.131533Z",
          "iopub.execute_input": "2022-03-06T03:34:31.132229Z",
          "iopub.status.idle": "2022-03-06T03:34:37.43553Z",
          "shell.execute_reply.started": "2022-03-06T03:34:31.132167Z",
          "shell.execute_reply": "2022-03-06T03:34:37.434835Z"
        },
        "trusted": true,
        "id": "qJ_iTEAWRWDz"
      },
      "execution_count": null,
      "outputs": []
    },
    {
      "cell_type": "code",
      "source": [
        "model = Sequential()\n",
        "\n",
        "model.add(Dense(11,activation='sigmoid',input_dim=11))\n",
        "model.add(Dense(11,activation='sigmoid'))\n",
        "model.add(Dense(1,activation='sigmoid'))"
      ],
      "metadata": {
        "execution": {
          "iopub.status.busy": "2022-03-06T03:34:37.82632Z",
          "iopub.execute_input": "2022-03-06T03:34:37.826813Z",
          "iopub.status.idle": "2022-03-06T03:34:37.947521Z",
          "shell.execute_reply.started": "2022-03-06T03:34:37.826746Z",
          "shell.execute_reply": "2022-03-06T03:34:37.94658Z"
        },
        "trusted": true,
        "id": "_kTuu2J6RWDz"
      },
      "execution_count": null,
      "outputs": []
    },
    {
      "cell_type": "code",
      "source": [
        "model.summary()"
      ],
      "metadata": {
        "execution": {
          "iopub.status.busy": "2022-03-06T03:34:51.250291Z",
          "iopub.execute_input": "2022-03-06T03:34:51.251022Z",
          "iopub.status.idle": "2022-03-06T03:34:51.258677Z",
          "shell.execute_reply.started": "2022-03-06T03:34:51.250979Z",
          "shell.execute_reply": "2022-03-06T03:34:51.257596Z"
        },
        "trusted": true,
        "id": "CYA4fYQoRWD0"
      },
      "execution_count": null,
      "outputs": []
    },
    {
      "cell_type": "code",
      "source": [
        "model.compile(optimizer='Adam',loss='binary_crossentropy',metrics=['accuracy'])"
      ],
      "metadata": {
        "execution": {
          "iopub.status.busy": "2022-03-06T03:34:59.301333Z",
          "iopub.execute_input": "2022-03-06T03:34:59.301604Z",
          "iopub.status.idle": "2022-03-06T03:34:59.315593Z",
          "shell.execute_reply.started": "2022-03-06T03:34:59.301574Z",
          "shell.execute_reply": "2022-03-06T03:34:59.314884Z"
        },
        "trusted": true,
        "id": "Rq9BnzBnRWD0"
      },
      "execution_count": null,
      "outputs": []
    },
    {
      "cell_type": "code",
      "source": [
        "history = model.fit(X_train,y_train,batch_size=50,epochs=100,verbose=1,validation_split=0.2)"
      ],
      "metadata": {
        "execution": {
          "iopub.status.busy": "2022-03-06T03:35:50.901904Z",
          "iopub.execute_input": "2022-03-06T03:35:50.902485Z",
          "iopub.status.idle": "2022-03-06T03:36:19.45562Z",
          "shell.execute_reply.started": "2022-03-06T03:35:50.902437Z",
          "shell.execute_reply": "2022-03-06T03:36:19.454726Z"
        },
        "trusted": true,
        "id": "86ShtkDfRWD1"
      },
      "execution_count": null,
      "outputs": []
    },
    {
      "cell_type": "code",
      "source": [
        "y_pred = model.predict(X_test)"
      ],
      "metadata": {
        "execution": {
          "iopub.status.busy": "2022-03-06T03:36:33.569599Z",
          "iopub.execute_input": "2022-03-06T03:36:33.569903Z",
          "iopub.status.idle": "2022-03-06T03:36:33.770856Z",
          "shell.execute_reply.started": "2022-03-06T03:36:33.569868Z",
          "shell.execute_reply": "2022-03-06T03:36:33.770114Z"
        },
        "trusted": true,
        "id": "axPCbo8GRWD1"
      },
      "execution_count": null,
      "outputs": []
    },
    {
      "cell_type": "code",
      "source": [
        "y_pred"
      ],
      "metadata": {
        "execution": {
          "iopub.status.busy": "2022-03-06T03:36:43.781671Z",
          "iopub.execute_input": "2022-03-06T03:36:43.782192Z",
          "iopub.status.idle": "2022-03-06T03:36:43.789507Z",
          "shell.execute_reply.started": "2022-03-06T03:36:43.782156Z",
          "shell.execute_reply": "2022-03-06T03:36:43.788484Z"
        },
        "trusted": true,
        "id": "LrrGKhWMRWD1"
      },
      "execution_count": null,
      "outputs": []
    },
    {
      "cell_type": "code",
      "source": [
        "y_pred = y_pred.argmax(axis=-1)"
      ],
      "metadata": {
        "execution": {
          "iopub.status.busy": "2022-03-06T03:36:53.41984Z",
          "iopub.execute_input": "2022-03-06T03:36:53.420271Z",
          "iopub.status.idle": "2022-03-06T03:36:53.425184Z",
          "shell.execute_reply.started": "2022-03-06T03:36:53.420233Z",
          "shell.execute_reply": "2022-03-06T03:36:53.424317Z"
        },
        "trusted": true,
        "id": "mpN99_CpRWD2"
      },
      "execution_count": null,
      "outputs": []
    },
    {
      "cell_type": "code",
      "source": [
        "from sklearn.metrics import accuracy_score\n",
        "accuracy_score(y_test,y_pred)"
      ],
      "metadata": {
        "execution": {
          "iopub.status.busy": "2022-03-06T03:37:01.489866Z",
          "iopub.execute_input": "2022-03-06T03:37:01.490157Z",
          "iopub.status.idle": "2022-03-06T03:37:01.498513Z",
          "shell.execute_reply.started": "2022-03-06T03:37:01.490129Z",
          "shell.execute_reply": "2022-03-06T03:37:01.497608Z"
        },
        "trusted": true,
        "id": "Ii5eDWTpRWD2"
      },
      "execution_count": null,
      "outputs": []
    },
    {
      "cell_type": "code",
      "source": [
        "import matplotlib.pyplot as plt\n",
        "\n",
        "plt.plot(history.history['loss'])\n",
        "plt.plot(history.history['val_loss'])"
      ],
      "metadata": {
        "execution": {
          "iopub.status.busy": "2022-03-06T03:37:10.534076Z",
          "iopub.execute_input": "2022-03-06T03:37:10.534504Z",
          "iopub.status.idle": "2022-03-06T03:37:10.742592Z",
          "shell.execute_reply.started": "2022-03-06T03:37:10.534473Z",
          "shell.execute_reply": "2022-03-06T03:37:10.741662Z"
        },
        "trusted": true,
        "id": "Toe4-2M8RWD3"
      },
      "execution_count": null,
      "outputs": []
    },
    {
      "cell_type": "code",
      "source": [
        "plt.plot(history.history['accuracy'])\n",
        "plt.plot(history.history['val_accuracy'])"
      ],
      "metadata": {
        "execution": {
          "iopub.status.busy": "2022-03-06T03:37:24.163624Z",
          "iopub.execute_input": "2022-03-06T03:37:24.164195Z",
          "iopub.status.idle": "2022-03-06T03:37:24.378329Z",
          "shell.execute_reply.started": "2022-03-06T03:37:24.16415Z",
          "shell.execute_reply": "2022-03-06T03:37:24.377501Z"
        },
        "trusted": true,
        "id": "3OjinCGwRWD3"
      },
      "execution_count": null,
      "outputs": []
    },
    {
      "cell_type": "code",
      "source": [],
      "metadata": {
        "id": "VSAkXlhnRWD4"
      },
      "execution_count": null,
      "outputs": []
    }
  ]
}